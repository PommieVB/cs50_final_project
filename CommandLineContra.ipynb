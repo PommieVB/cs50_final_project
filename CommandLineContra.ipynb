{
 "cells": [
  {
   "cell_type": "markdown",
   "metadata": {},
   "source": [
    "\n",
    "# Contra dance command line\n",
    "\n",
    "### Aim:\n",
    "Draw board in command-line type visualisation which can show beginning and end of contra dance move defined by user.\n",
    "\n",
    "### Notes:\n",
    "* I will be using camelCase for functions and variable.\n",
    "* Position variables are zero indexed and the y-axis is top to bottom.\n",
    "\n"
   ]
  },
  {
   "cell_type": "code",
   "execution_count": 21,
   "metadata": {
    "collapsed": true
   },
   "outputs": [],
   "source": [
    "# imports and setup\n",
    "\n",
    "import numpy as np\n",
    "from pprint import pprint as pp"
   ]
  },
  {
   "cell_type": "code",
   "execution_count": 162,
   "metadata": {},
   "outputs": [],
   "source": [
    "# define classes\n",
    "\n",
    "class Dancer(object):\n",
    "    \"\"\" A sprite representing a dancer. Dancers have the following properties:\n",
    "    \n",
    "    Attributes:\n",
    "        symbol: A character representing the dancer on the floor e.g. 'a', '1'.\n",
    "        floor: The dance floor on which this dancer will be dancing.\n",
    "        position: A two-integer array giving the dancer's position e.g. [2,2].\n",
    "    \n",
    "    \"\"\"\n",
    "    def __init__(self, symbol, position, floor): \n",
    "        self.symbol = symbol\n",
    "        self.floor = floor\n",
    "        self.position = position\n",
    "        self.floor.addDancer(self)  # add dancer to dance floor\n",
    "\n",
    "\n",
    "class DanceFloor(object):\n",
    "    \"\"\"A schematic of a dance floor. It has the following properties:\n",
    "    \n",
    "    Attributes:\n",
    "        length: An integer giving the length of the dance floor\n",
    "        width: An integer giving the width of the dance floor.\n",
    "        floor: An array representing the dance floor.\n",
    "        dancers: A dictionary with key-value pairs of dancers on the floor and their positions\n",
    "        \n",
    "    \"\"\"\n",
    "    \n",
    "    \n",
    "    def __init__(self, length, width=8):\n",
    "        self.length = length\n",
    "        self.width = width\n",
    "        try:\n",
    "            self.floor = np.full((length, width), \"_\", dtype=str)\n",
    "        except TypeError:\n",
    "            print(\"Dimension argument(s) for DanceFloor object must be integers.\")\n",
    "        self.dancers = dict()\n",
    "        \n",
    "        \n",
    "    def showFloor(self):\n",
    "        \"\"\"Shows the current state of the dance floor\"\"\"\n",
    "        for i in self.floor:\n",
    "            print(i)\n",
    "        print(\"\")\n",
    "            \n",
    "            \n",
    "    def addDancer(self, dancer):\n",
    "        \"\"\"Adds a dancer to the floor at their starting position\"\"\"\n",
    "        # check symbol not being used by another dancer\n",
    "        if dancer.symbol not in self.dancers:\n",
    "            # check symbol is single character\n",
    "            if len(dancer.symbol) == 1:\n",
    "                try:               \n",
    "                    # check for another dancer in the same position\n",
    "                    if self.floor[dancer.position[1], dancer.position[0]] == \"_\":\n",
    "                        # change floor marker to dancer's symbol and update dict of dancers\n",
    "                        self.floor[dancer.position[1], dancer.position[0]] = dancer.symbol\n",
    "                        self.dancers[dancer.symbol] = dancer.position \n",
    "                    else:\n",
    "                        print(\"There is already a dancer at the position %s.\" % dancer.position)\n",
    "                except IndexError:\n",
    "                    print(\"The position %s is out of bounds.\" % dancer.position)\n",
    "            else:\n",
    "                print(\"Symbol for a dancer must be a single character.\")\n",
    "        else:\n",
    "            print(\"The symbol '%s' is already being used for a dancer.\" % dancer.symbol)\n",
    "        \n",
    "        \n",
    "    def removeDancer(self, symbol):\n",
    "        \"\"\"Removes a dancer from the floor, searching by symbol\"\"\"\n",
    "        try:\n",
    "            pos = self.dancers[symbol]\n",
    "            self.floor[pos[1], pos[0]] = \"_\"\n",
    "            del self.dancers[symbol]\n",
    "        except KeyError:\n",
    "            print(\"No dancer with that symbol. Currently, the dancers are: \", end=\"\")\n",
    "            for key in self.dancers.keys():\n",
    "                print(key, end=\" \")"
   ]
  },
  {
   "cell_type": "code",
   "execution_count": 163,
   "metadata": {},
   "outputs": [
    {
     "name": "stdout",
     "output_type": "stream",
     "text": [
      "['_' '_' '_' '_' '_' '_' '_' '_']\n",
      "['_' '_' '_' '_' '_' '_' '_' '_']\n",
      "['_' '_' '_' '_' '_' '_' '_' '_']\n",
      "['_' '_' '1' '_' '_' '2' '_' '_']\n",
      "['_' '_' '3' '_' '_' '4' '_' '_']\n",
      "['_' '_' '_' '_' '_' '_' '_' '_']\n",
      "['_' '_' '_' '_' '_' '_' '_' '_']\n",
      "['_' '_' '_' '_' '_' '_' '_' '_']\n",
      "\n",
      "{'1': [2, 3], '2': [5, 3], '3': [2, 4], '4': [5, 4]}\n"
     ]
    }
   ],
   "source": [
    "# testing dance floor class\n",
    "floor = DanceFloor(8)     \n",
    "dancer = Dancer('1', [2,3], floor)\n",
    "dancer = Dancer('2', [5,3], floor)\n",
    "dancer = Dancer('3', [2,4], floor)\n",
    "dancer = Dancer('4', [5,4], floor)\n",
    "floor.showFloor()\n",
    "pp(floor.dancers)"
   ]
  }
 ],
 "metadata": {
  "kernelspec": {
   "display_name": "Python 3",
   "language": "python",
   "name": "python3"
  },
  "language_info": {
   "codemirror_mode": {
    "name": "ipython",
    "version": 3
   },
   "file_extension": ".py",
   "mimetype": "text/x-python",
   "name": "python",
   "nbconvert_exporter": "python",
   "pygments_lexer": "ipython3",
   "version": "3.6.1"
  }
 },
 "nbformat": 4,
 "nbformat_minor": 2
}
